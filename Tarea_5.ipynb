{
  "nbformat": 4,
  "nbformat_minor": 0,
  "metadata": {
    "colab": {
      "name": "Tarea_5.ipynb",
      "provenance": []
    },
    "kernelspec": {
      "name": "python3",
      "display_name": "Python 3"
    },
    "language_info": {
      "name": "python"
    }
  },
  "cells": [
    {
      "cell_type": "markdown",
      "source": [
        "**Simulación de una línea de espera**"
      ],
      "metadata": {
        "id": "XlLisLftjUQD"
      }
    },
    {
      "cell_type": "code",
      "source": [
        "import random \n",
        "import math\n",
        "\n",
        "def p(x):\n",
        "  z = -(1/x)* math.log(random.random())\n",
        "  return z\n",
        "\n",
        "T = 10\n",
        "pe = 1\n",
        "ps = 1.5\n",
        "inf = 1000000\n",
        "t = 0\n",
        "te = 0\n",
        "ts = 0\n",
        "ta = 0\n",
        "c = 0\n",
        "w = 0\n",
        "\n",
        "while w == 0:\n",
        "  te = p(pe)\n",
        "  ts = p(ps)\n",
        "  if c == 0:\n",
        "    ts = inf\n",
        "  ta = min(te, ts) \n",
        "\n",
        "  if(ta == te):\n",
        "    h = p(pe)\n",
        "    t = t + h\n",
        "    if (t>T):\n",
        "      t = t - h\n",
        "      w = 1\n",
        "      break\n",
        "    c = c + 1\n",
        "    print(\"%.4f\"%t,c)\n",
        "\n",
        "  else:\n",
        "    t = t + p(ps)\n",
        "    c = c - 1\n",
        "    print(\"           %.4f\"%t,c)\n",
        "\n",
        "\n",
        "while c > 0:\n",
        "  t = t + p(ps)\n",
        "  c = c - 1\n",
        "  print(\"           %.4f\"%t,c)  \n",
        "\n",
        "\n"
      ],
      "metadata": {
        "colab": {
          "base_uri": "https://localhost:8080/"
        },
        "id": "RWsaQKTXjd-0",
        "outputId": "5f59276d-db7c-4f2a-a505-0444d8202b41"
      },
      "execution_count": 100,
      "outputs": [
        {
          "output_type": "stream",
          "name": "stdout",
          "text": [
            "0.8799 1\n",
            "1.6831 2\n",
            "           2.6590 1\n",
            "           2.8003 0\n",
            "5.7568 1\n",
            "6.2412 2\n",
            "           6.2433 1\n",
            "6.6536 2\n",
            "7.2729 3\n",
            "8.5880 4\n",
            "9.0233 5\n",
            "9.0270 6\n",
            "           9.3419 5\n",
            "           12.7355 4\n",
            "           13.2588 3\n",
            "           13.4968 2\n",
            "           13.5136 1\n",
            "           13.8633 0\n"
          ]
        }
      ]
    }
  ]
}