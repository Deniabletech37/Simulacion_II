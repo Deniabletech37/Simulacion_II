{
  "nbformat": 4,
  "nbformat_minor": 0,
  "metadata": {
    "colab": {
      "name": "Ejercicios_pi.ipynb",
      "provenance": []
    },
    "kernelspec": {
      "name": "python3",
      "display_name": "Python 3"
    },
    "language_info": {
      "name": "python"
    }
  },
  "cells": [
    {
      "cell_type": "code",
      "execution_count": 60,
      "metadata": {
        "colab": {
          "base_uri": "https://localhost:8080/",
          "height": 282
        },
        "id": "8NErDQNzQaWt",
        "outputId": "bb4c0577-807f-46b6-bfa1-0dc1c2e245d6"
      },
      "outputs": [
        {
          "output_type": "stream",
          "name": "stdout",
          "text": [
            "El valor aproximado de Pi es 3.14242\n"
          ]
        },
        {
          "output_type": "display_data",
          "data": {
            "image/png": "[encoded data removed]",
            "text/plain": [
              "<Figure size 432x288 with 1 Axes>"
            ]
          },
          "metadata": {
            "needs_background": "light"
          }
        }
      ],
      "source": [
        "import random\n",
        "import numpy as np\n",
        "import matplotlib.pyplot as plt\n",
        "from math import sqrt\n",
        "\n",
        "a = 1\n",
        "b = 0.75\n",
        "n = 10000000\n",
        "c = 0\n",
        "ax = []\n",
        "ay = []\n",
        "fx = []\n",
        "fy = []\n",
        "xq = np.linspace(0,1,600)\n",
        "yq = np.sqrt(1-(xq/a)**2)*b\n",
        "\n",
        "for i in range(n):\n",
        "  x = random.random()\n",
        "  y = random.random()\n",
        "\n",
        "  if  ((x/a)**2 +(y/b)**2)>= 1:\n",
        "    fx.append(x)\n",
        "    fy.append(y)\n",
        "  else:\n",
        "    ax.append(x)\n",
        "    ay.append(y)\n",
        "    c = c + 1\n",
        "area = (4*c)/(n*a*b)\n",
        "print(\"El valor aproximado de Pi es %.5f\" %area)\n",
        "plt.scatter(ax, ay, color=\"blue\", marker   =\".\", s = 2) \n",
        "plt.scatter(fx, fy, color=\"red\"  , marker   =\".\", s = 2) \n",
        "plt.plot(xq,yq,color=\"black\" , linewidth=\"2\")\n",
        "plt.show()"
      ]
    }
  ]
}