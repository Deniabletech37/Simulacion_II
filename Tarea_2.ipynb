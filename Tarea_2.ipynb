{
  "nbformat": 4,
  "nbformat_minor": 0,
  "metadata": {
    "colab": {
      "name": "Tarea_2.ipynb",
      "provenance": []
    },
    "kernelspec": {
      "name": "python3",
      "display_name": "Python 3"
    },
    "language_info": {
      "name": "python"
    }
  },
  "cells": [
    {
      "cell_type": "code",
      "execution_count": 7,
      "metadata": {
        "colab": {
          "base_uri": "https://localhost:8080/",
          "height": 282
        },
        "id": "l233VJEIIICO",
        "outputId": "289e067a-c8eb-4e4b-e271-31deeb605432"
      },
      "outputs": [
        {
          "output_type": "stream",
          "name": "stdout",
          "text": [
            "El área aproximada es 0.6303\n"
          ]
        },
        {
          "output_type": "display_data",
          "data": {
            "image/png": "[encoded data removed]",
            "text/plain": [
              "<Figure size 432x288 with 1 Axes>"
            ]
          },
          "metadata": {
            "needs_background": "light"
          }
        }
      ],
      "source": [
        "import matplotlib.pyplot as plt\n",
        "import numpy as np\n",
        "import random  \n",
        "from math import sqrt, tan\n",
        "\n",
        "dx = []\n",
        "dy = []\n",
        "ax = []\n",
        "ay = []\n",
        "n = 1000000\n",
        "c = 0\n",
        "x = np.linspace(0,1,200)\n",
        "y = np.sqrt(np.arctan(x))\n",
        "  \n",
        "for i in range(n):  \n",
        "  x1 = random.random()\n",
        "  y1 = random.random()\n",
        "  z = tan(y1**2)\n",
        "  if (z>x1):\n",
        "    ax.append(x1)\n",
        "    ay.append(y1)\n",
        "\n",
        "  else:\n",
        "    dx.append(x1)\n",
        "    dy.append(y1)\n",
        "    c = c+1\n",
        "\n",
        "print(\"El área aproximada es %.4f\" %(c/n))\n",
        "plt.scatter(ax,ay, color=\"red\", marker   =\".\")\n",
        "plt.scatter(dx,dy, color=\"blue\", marker   =\".\")\n",
        "\n",
        "plt.show()"
      ]
    }
  ]
}