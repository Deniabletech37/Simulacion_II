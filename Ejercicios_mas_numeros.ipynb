{
  "nbformat": 4,
  "nbformat_minor": 0,
  "metadata": {
    "colab": {
      "name": "Ejercicios_mas_numeros.ipynb",
      "provenance": []
    },
    "kernelspec": {
      "name": "python3",
      "display_name": "Python 3"
    },
    "language_info": {
      "name": "python"
    }
  },
  "cells": [
    {
      "cell_type": "markdown",
      "source": [
        "Ejercicio de listas"
      ],
      "metadata": {
        "id": "VALxOlTg04w3"
      }
    },
    {
      "cell_type": "code",
      "source": [
        "from random import random, shuffle, randint\n",
        "\n",
        "\n",
        "lista = ['Rome','New York','London','Berlin','Moskov', 'Los Angeles','Paris','Madrid','Tokio','Toronto']\n",
        "shuffle(lista)\n",
        "print(lista[randint(0,9)])"
      ],
      "metadata": {
        "colab": {
          "base_uri": "https://localhost:8080/"
        },
        "id": "SYpCUscb1AxS",
        "outputId": "2501b50b-52f6-4942-e70e-53032d140869"
      },
      "execution_count": null,
      "outputs": [
        {
          "output_type": "stream",
          "name": "stdout",
          "text": [
            "Rome\n"
          ]
        }
      ]
    },
    {
      "cell_type": "code",
      "source": [
        "from random import random, sample\n",
        "\n",
        "lista = [\"Rome\", \"New York\",'London','Berlin','Moskov', 'Los Angeles','Paris','Madrid','Tokio','Toronto']\n",
        "print(sample(lista, 3))"
      ],
      "metadata": {
        "colab": {
          "base_uri": "https://localhost:8080/"
        },
        "id": "jFOXbBTl2Iqb",
        "outputId": "acbacec5-ccc1-4587-ec3c-b8ffd9ef12fd"
      },
      "execution_count": null,
      "outputs": [
        {
          "output_type": "stream",
          "name": "stdout",
          "text": [
            "['London', 'New York', 'Tokio']\n"
          ]
        }
      ]
    },
    {
      "cell_type": "markdown",
      "source": [
        "Histogramas"
      ],
      "metadata": {
        "id": "AAExTRAh5ubd"
      }
    },
    {
      "cell_type": "code",
      "source": [
        "import random\n",
        "import numpy as np\n",
        "import matplotlib.pyplot as plt\n",
        "\n",
        "n = 1000000\n",
        "\n",
        "l1 = []\n",
        "l2 = []\n",
        "l3 = []\n",
        "l4 = []\n",
        "\n",
        "\n",
        "\n",
        "for i in range(n):\n",
        "  l1.append(random.triangular())\n",
        "  l2.append(random.betavariate(5,1))\n",
        "  l3.append(random.expovariate(5))\n",
        "  l4.append(random.gammavariate(2,1))\n",
        "\n",
        "print(\"Distribución triangular\")\n",
        "plt.hist(l1, bins = 200, density = 1, color =\"springgreen\")\n",
        "plt.show()\n",
        "print(\"\\n Distribución beta con parámetros alpha = 5 y beta = 1\")\n",
        "plt.hist(l2, bins = 200, density = 1, color = \"turquoise\")\n",
        "plt.show()\n",
        "print(\"\\n Distribución exponencial con parámetro 5\")\n",
        "plt.hist(l3, bins = 200, density = 1, color = \"indigo\")\n",
        "plt.show()\n",
        "print(\"\\n Distribución Gamma con alpha = 2,  beta = 1\")\n",
        "plt.hist(l4, bins = 200, density = 1, color = \"cyan\")\n",
        "plt.show()\n"
      ],
      "metadata": {
        "colab": {
          "base_uri": "https://localhost:8080/",
          "height": 1000
        },
        "id": "bfUvAsLP5u2h",
        "outputId": "3ee3fb5c-a7f6-40d3-bfba-e8a63698b5ad"
      },
      "execution_count": 22,
      "outputs": [
        {
          "output_type": "stream",
          "name": "stdout",
          "text": [
            "Distribución triangular\n"
          ]
        },
        {
          "output_type": "display_data",
          "data": {
            "image/png": "[encoded data removed]",
            "text/plain": [
              "<Figure size 432x288 with 1 Axes>"
            ]
          },
          "metadata": {
            "needs_background": "light"
          }
        },
        {
          "output_type": "stream",
          "name": "stdout",
          "text": [
            "\n",
            " Distribución beta con parámetros alpha = 5 y beta = 1\n"
          ]
        },
        {
          "output_type": "display_data",
          "data": {
            "image/png": "[encoded data removed]",
            "text/plain": [
              "<Figure size 432x288 with 1 Axes>"
            ]
          },
          "metadata": {
            "needs_background": "light"
          }
        },
        {
          "output_type": "stream",
          "name": "stdout",
          "text": [
            "\n",
            " Distribución exponencial con parámetro 5\n"
          ]
        },
        {
          "output_type": "display_data",
          "data": {
            "image/png": "[encoded data removed]",
            "text/plain": [
              "<Figure size 432x288 with 1 Axes>"
            ]
          },
          "metadata": {
            "needs_background": "light"
          }
        },
        {
          "output_type": "stream",
          "name": "stdout",
          "text": [
            "\n",
            " Distribución Gamma con alpha = 2,  beta = 1\n"
          ]
        },
        {
          "output_type": "display_data",
          "data": {
            "image/png": "[encoded data removed]",
            "text/plain": [
              "<Figure size 432x288 with 1 Axes>"
            ]
          },
          "metadata": {
            "needs_background": "light"
          }
        }
      ]
    },
    {
      "cell_type": "code",
      "source": [
        "import random\n",
        "import numpy as np\n",
        "import matplotlib.pyplot as plt\n",
        "\n",
        "n = 10000000\n",
        "\n",
        "l5 = []\n",
        "l6 = []\n",
        "l7 = []\n",
        "l8 = []\n",
        "\n",
        "\n",
        "for i in range(n):\n",
        "  l5.append(random.lognormvariate(0.5,1))\n",
        "  l6.append(random.normalvariate(3,2))\n",
        "  l7.append(random.vonmisesvariate(3, 5))\n",
        "  l8.append(random.paretovariate(6))\n",
        "\n",
        "print(\"Distribución logarítmica\")\n",
        "plt.hist(l5, bins = 200, density = 1, color = \"cyan\")\n",
        "plt.show()\n",
        "print(\"\\n Distribución normal con media = 3 y desviación estándar = 2\")\n",
        "plt.hist(l6, bins = 200, density = 1, color =\"springgreen\")\n",
        "plt.show()\n",
        "print(\"\\n Distribución vonmi\")\n",
        "plt.hist(l7, bins = 200, density = 1, color =\"violet\")\n",
        "plt.show()\n",
        "print(\"Distribución de pareto\")\n",
        "plt.hist(l8, bins = 200, density = 1, color = \"hotpink\")\n",
        "plt.show()\n"
      ],
      "metadata": {
        "colab": {
          "base_uri": "https://localhost:8080/",
          "height": 1000
        },
        "id": "Xw1WDs-NEDn1",
        "outputId": "baeb18a0-f882-4423-982d-a0ee87abe08e"
      },
      "execution_count": 23,
      "outputs": [
        {
          "output_type": "stream",
          "name": "stdout",
          "text": [
            "Distribución logarítmica\n"
          ]
        },
        {
          "output_type": "display_data",
          "data": {
            "image/png": "[encoded data removed]",
            "text/plain": [
              "<Figure size 432x288 with 1 Axes>"
            ]
          },
          "metadata": {
            "needs_background": "light"
          }
        },
        {
          "output_type": "stream",
          "name": "stdout",
          "text": [
            "\n",
            " Distribución normal con media = 3 y desviación estándar = 2\n"
          ]
        },
        {
          "output_type": "display_data",
          "data": {
            "image/png": "[encoded data removed]",
            "text/plain": [
              "<Figure size 432x288 with 1 Axes>"
            ]
          },
          "metadata": {
            "needs_background": "light"
          }
        },
        {
          "output_type": "stream",
          "name": "stdout",
          "text": [
            "\n",
            " Distribución vonmi\n"
          ]
        },
        {
          "output_type": "display_data",
          "data": {
            "image/png": "[encoded data removed]",
            "text/plain": [
              "<Figure size 432x288 with 1 Axes>"
            ]
          },
          "metadata": {
            "needs_background": "light"
          }
        },
        {
          "output_type": "stream",
          "name": "stdout",
          "text": [
            "Distribución de pareto\n"
          ]
        },
        {
          "output_type": "display_data",
          "data": {
            "image/png": "[encoded data removed]",
            "text/plain": [
              "<Figure size 432x288 with 1 Axes>"
            ]
          },
          "metadata": {
            "needs_background": "light"
          }
        }
      ]
    },
    {
      "cell_type": "code",
      "source": [
        "import random\n",
        "import numpy as np\n",
        "import matplotlib.pyplot as plt\n",
        "\n",
        "n = 10000000\n",
        "\n",
        "l9 = []\n",
        "\n",
        "for i in range(n):\n",
        "  l9.append(random.weibullvariate(1,2))\n",
        "\n",
        "plt.hist(l9, bins = 200, density = 1)\n",
        "plt.show()\n"
      ],
      "metadata": {
        "colab": {
          "base_uri": "https://localhost:8080/",
          "height": 265
        },
        "id": "4zF_UzTg-Y7l",
        "outputId": "49addd0f-56dc-4dad-e3b9-5fb34ecdf9d2"
      },
      "execution_count": 3,
      "outputs": [
        {
          "output_type": "display_data",
          "data": {
            "image/png": "[encoded data removed]",
            "text/plain": [
              "<Figure size 432x288 with 1 Axes>"
            ]
          },
          "metadata": {
            "needs_background": "light"
          }
        }
      ]
    },
    {
      "cell_type": "markdown",
      "source": [
        "# **Simulación de dos distribuciones de probabilidad**"
      ],
      "metadata": {
        "id": "x6OQwwgfJAo1"
      }
    },
    {
      "cell_type": "code",
      "source": [
        "import random\n",
        "import numpy as np\n",
        "import matplotlib.pyplot as plt\n",
        "import math\n",
        "\n",
        "n = 1000000\n",
        "\n",
        "l1 = []\n",
        "l2 = []\n",
        "\n",
        "for i in range(n):\n",
        "  l1.append(random.random())\n",
        "  z = -2*(math.log(1-random.random()))\n",
        "  l2.append(z)\n",
        "print(\"Distribución normal\")\n",
        "plt.hist(l1, density = 1, bins = 200)\n",
        "plt.show()\n",
        "print(\"Distribución chi-cuadrada con parámetro k=2\")\n",
        "plt.hist(l2, density = 1, bins = 200)\n",
        "plt.show()"
      ],
      "metadata": {
        "colab": {
          "base_uri": "https://localhost:8080/",
          "height": 552
        },
        "id": "VVPR_h8pISrb",
        "outputId": "b3567f0c-e8e5-44ff-eb83-73fb2e0dca31"
      },
      "execution_count": 17,
      "outputs": [
        {
          "output_type": "stream",
          "name": "stdout",
          "text": [
            "Distribución normal\n"
          ]
        },
        {
          "output_type": "display_data",
          "data": {
            "image/png": "[encoded data removed]",
            "text/plain": [
              "<Figure size 432x288 with 1 Axes>"
            ]
          },
          "metadata": {
            "needs_background": "light"
          }
        },
        {
          "output_type": "stream",
          "name": "stdout",
          "text": [
            "Distribución chi-cuadrada con parámetro k=2\n"
          ]
        },
        {
          "output_type": "display_data",
          "data": {
            "image/png": "[encoded data removed]",
            "text/plain": [
              "<Figure size 432x288 with 1 Axes>"
            ]
          },
          "metadata": {
            "needs_background": "light"
          }
        }
      ]
    }
  ]
}