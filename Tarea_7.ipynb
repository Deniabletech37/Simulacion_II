{
  "nbformat": 4,
  "nbformat_minor": 0,
  "metadata": {
    "colab": {
      "name": "Tarea_7.ipynb",
      "provenance": []
    },
    "kernelspec": {
      "name": "python3",
      "display_name": "Python 3"
    },
    "language_info": {
      "name": "python"
    }
  },
  "cells": [
    {
      "cell_type": "code",
      "execution_count": 74,
      "metadata": {
        "colab": {
          "base_uri": "https://localhost:8080/",
          "height": 296
        },
        "id": "WafdTYlF3KTS",
        "outputId": "1c1f1baa-ba67-480f-84cd-fc505bdc451d"
      },
      "outputs": [
        {
          "output_type": "stream",
          "name": "stdout",
          "text": [
            "[0.15005713 1.16271315 1.66756682 2.68411956 2.3464773  0.50919091]\n"
          ]
        },
        {
          "output_type": "display_data",
          "data": {
            "text/plain": [
              "<Figure size 432x288 with 1 Axes>"
            ],
            "image/png": "[encoded data removed]"
          },
          "metadata": {
            "needs_background": "light"
          }
        }
      ],
      "source": [
        "import random \n",
        "import math\n",
        "import matplotlib.pyplot as plt\n",
        "import numpy as NP\n",
        "\n",
        "def p(x):\n",
        "  z = -(1/x)* math.log(random.random())\n",
        "  return z\n",
        "\n",
        "T = 10\n",
        "pe = 1\n",
        "ps = 1.5\n",
        "inf = 1000000\n",
        "t = 0\n",
        "te = 0\n",
        "TE = []\n",
        "TS = []\n",
        "G = []\n",
        "g = 0\n",
        "ts = 0\n",
        "ta = 0\n",
        "c = 0\n",
        "w = 0\n",
        "\n",
        "while w == 0:\n",
        "  te = p(pe)\n",
        "  ts = p(ps)\n",
        "  if c == 0:\n",
        "    ts = inf\n",
        "  ta = min(te, ts) \n",
        "\n",
        "  if(ta == te):\n",
        "    h = p(pe)\n",
        "    t = t + h\n",
        "    if (t>T):\n",
        "      t = t - h\n",
        "      w = 1\n",
        "      break\n",
        "    c = c + 1\n",
        "    TE.append(t)\n",
        "    g = g +1\n",
        "    G.append(g)\n",
        "    #print(\"%.4f\"%t,c)\n",
        "\n",
        "  else:\n",
        "    t = t + p(ps)\n",
        "    c = c - 1\n",
        "    TS.append(t)\n",
        "    #print(\"           %.4f\"%t,c)\n",
        "\n",
        "\n",
        "while c > 0:\n",
        "  t = t + p(ps)\n",
        "  c = c - 1\n",
        "  TS.append(t)\n",
        "  #print(\"           %.4f\"%t,c)  \n",
        "\n",
        "R = NP.subtract(TS,TE)\n",
        "print(R)\n",
        "plt.xlabel(\"Persona N°\")\n",
        "plt.ylabel(\"Tiempo de espera\")\n",
        "plt.step(G,R, where=\"post\", color=\"green\")\n",
        "plt.show()"
      ]
    }
  ]
}