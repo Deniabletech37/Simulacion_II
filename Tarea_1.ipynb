{
  "nbformat": 4,
  "nbformat_minor": 0,
  "metadata": {
    "colab": {
      "name": "Tarea_1.ipynb",
      "provenance": []
    },
    "kernelspec": {
      "name": "python3",
      "display_name": "Python 3"
    },
    "language_info": {
      "name": "python"
    }
  },
  "cells": [
    {
      "cell_type": "markdown",
      "source": [
        "Ejercicio 1"
      ],
      "metadata": {
        "id": "UX3EY9L8Hws-"
      }
    },
    {
      "cell_type": "code",
      "source": [
        "from random import random\n",
        "\n",
        "x = random()\n",
        "\n",
        "if x>0.5:\n",
        "    print(\"Sol\")\n",
        "else:\n",
        "    print(\"a) Águila\")\n",
        "print(\"--------\")\n",
        "\n",
        "m = 1000\n",
        "a = 0\n",
        "s = 0\n",
        "for i in range(m):\n",
        "  y = random()\n",
        "  if y>0.5:\n",
        "    s = s + 1\n",
        "  else:\n",
        "    a = a + 1\n",
        "\n",
        "print(\"b) La probabilidad de que saliera sol es \", s/1000)  "
      ],
      "metadata": {
        "colab": {
          "base_uri": "https://localhost:8080/"
        },
        "id": "aPgGJLj6H1Z2",
        "outputId": "d79c1346-e330-4c5e-a2cb-44ab17a262b7"
      },
      "execution_count": null,
      "outputs": [
        {
          "output_type": "stream",
          "name": "stdout",
          "text": [
            "a) Águila\n",
            "--------\n",
            "b) La probabilidad de que saliera sol es  0.513\n"
          ]
        }
      ]
    },
    {
      "cell_type": "markdown",
      "source": [
        "Ejercicio 2"
      ],
      "metadata": {
        "id": "-4WBJFlrIHjf"
      }
    },
    {
      "cell_type": "code",
      "source": [
        "from random import random, randint\n",
        "\n",
        "l = [\"Blanco\", \"Negro\", \"Rojo\", \"Azul\", \"Verde\"]\n",
        "print(\"a) \", l[randint(0,4)])\n",
        "print(\"--------\")\n",
        "\n",
        "for i in range(5):\n",
        "  print(l[randint(0,4)])\n"
      ],
      "metadata": {
        "colab": {
          "base_uri": "https://localhost:8080/"
        },
        "id": "ZskBgjTMIJjZ",
        "outputId": "9415e966-f8f0-4f78-ba5e-90e1cca2781d"
      },
      "execution_count": null,
      "outputs": [
        {
          "output_type": "stream",
          "name": "stdout",
          "text": [
            "a)  Blanco\n",
            "--------\n",
            "Negro\n",
            "Blanco\n",
            "Blanco\n",
            "Verde\n",
            "Blanco\n"
          ]
        }
      ]
    },
    {
      "cell_type": "markdown",
      "source": [
        "Tarea 1"
      ],
      "metadata": {
        "id": "0pteKe5gIaLJ"
      }
    },
    {
      "cell_type": "code",
      "source": [
        "from random import random\n",
        "\n",
        "n = 10000000  #Número de puntos totales a colocar\n",
        "c = 0         #Número de puntos que cayeron dentro del círuclo\n",
        "\n",
        "for i in range(n):\n",
        "  x = random() #Coordenada al azar x para el punto\n",
        "  y = random() #Coordenada al azar y para el punto \n",
        "\n",
        "  if (x**2+y**2)<1:  #Ecuacion de la circunferencia para verificar si está dentro o fuera del círuculo\n",
        "    c = c+1 \n",
        "\n",
        "print(c*4/n)  #Se multiplica por 4 y divide por el número total de puntos "
      ],
      "metadata": {
        "colab": {
          "base_uri": "https://localhost:8080/"
        },
        "id": "zEpUU244IcLP",
        "outputId": "8403551f-8db3-4075-ed17-75d5b7502fa5"
      },
      "execution_count": null,
      "outputs": [
        {
          "output_type": "stream",
          "name": "stdout",
          "text": [
            "3.1414152\n"
          ]
        }
      ]
    },
    {
      "cell_type": "markdown",
      "source": [
        "Ejercicio 3"
      ],
      "metadata": {
        "id": "v7mG4BvhUAHN"
      }
    },
    {
      "cell_type": "code",
      "source": [
        "from random import random\n",
        "import matplotlib.pyplot as plt\n",
        "from math import pi\n",
        "import numpy as np\n",
        "\n",
        "n = 2000000\n",
        "c = 0 \n",
        "l = []\n",
        "e = 0.001\n",
        "for i in range(n):\n",
        "  x = random()\n",
        "  y = random()\n",
        "\n",
        "  if (x**2+y**2)<1:\n",
        "    c = c+1 \n",
        "  if (i>0) & (i%1000 == 0):\n",
        "    l.append(c*4/(i))\n",
        "\n",
        "print(n, c*4/n)\n",
        "plt.axhline(y=pi, color='red', linestyle='-')\n",
        "plt.axhline(y=pi+e, color='green', linestyle='-')\n",
        "plt.axhline(y=pi-e, color='green', linestyle='-')\n",
        "plt.plot(l, color=\"blue\", markersize=1)\n",
        "plt.plot(3.13)\n",
        "plt.show()\n"
      ],
      "metadata": {
        "colab": {
          "base_uri": "https://localhost:8080/",
          "height": 282
        },
        "id": "qDZZHjt3UG2E",
        "outputId": "4ce42114-5570-4cb9-ccef-c822076e2eb9"
      },
      "execution_count": null,
      "outputs": [
        {
          "output_type": "stream",
          "name": "stdout",
          "text": [
            "2000000 3.140708\n"
          ]
        },
        {
          "output_type": "display_data",
          "data": {
            "image/png": "[encoded data removed]",
            "text/plain": [
              "<Figure size 432x288 with 1 Axes>"
            ]
          },
          "metadata": {
            "needs_background": "light"
          }
        }
      ]
    }
  ]
}