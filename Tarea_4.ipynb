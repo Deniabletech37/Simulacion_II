{
  "nbformat": 4,
  "nbformat_minor": 0,
  "metadata": {
    "colab": {
      "name": "Tarea_4.ipynb",
      "provenance": []
    },
    "kernelspec": {
      "name": "python3",
      "display_name": "Python 3"
    },
    "language_info": {
      "name": "python"
    }
  },
  "cells": [
    {
      "cell_type": "code",
      "execution_count": 59,
      "metadata": {
        "colab": {
          "base_uri": "https://localhost:8080/",
          "height": 565
        },
        "id": "pbR6Y30YjCJA",
        "outputId": "82ca8c25-712d-44ac-8578-dd91176518c8"
      },
      "outputs": [
        {
          "output_type": "stream",
          "name": "stdout",
          "text": [
            "Como podmeos observar, ambas gráficas son muy similares, por lo que podemos decir que el método de las doce uniforme\n",
            "sirve para simular una distribución normal uniforme de media = 0 y desviación estándar = 1 \n",
            "\n"
          ]
        },
        {
          "output_type": "display_data",
          "data": {
            "image/png": "[encoded data removed]",
            "text/plain": [
              "<Figure size 432x288 with 1 Axes>"
            ]
          },
          "metadata": {
            "needs_background": "light"
          }
        },
        {
          "output_type": "display_data",
          "data": {
            "image/png": "[encoded data removed]",
            "text/plain": [
              "<Figure size 432x288 with 1 Axes>"
            ]
          },
          "metadata": {
            "needs_background": "light"
          }
        }
      ],
      "source": [
        "from numpy.core.function_base import linspace\n",
        "import random\n",
        "import matplotlib.pyplot as plt\n",
        "import numpy as np\n",
        "\n",
        "\n",
        "def doce():\n",
        "  c = 0\n",
        "  for i in range(12):\n",
        "    c = c + random.random()\n",
        "  c = c - 6\n",
        "  return c\n",
        "\n",
        "l = []\n",
        "y = []\n",
        "n = 1000000\n",
        "for i in range(n):\n",
        "  y.append(random.gauss(0,1))\n",
        "\n",
        "for i in range(n):\n",
        "  l.append(doce())\n",
        "print(\"Como podmeos observar, ambas gráficas son muy similares, por lo que podemos decir que el método de las doce uniforme\")\n",
        "print(\"sirve para simular una distribución normal uniforme de media = 0 y desviación estándar = 1 \\n\")\n",
        "plt.hist(l, density = 1, bins = 100,  color = \"gray\", edgecolor = \"black\")\n",
        "plt.show()\n",
        "fig = plt.hist(y,density = 1, bins = 100, alpha= 0.5, color =\"c\",edgecolor = \"black\")\n"
      ]
    }
  ]
}